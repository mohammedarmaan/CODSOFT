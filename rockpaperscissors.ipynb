{
 "cells": [
  {
   "cell_type": "code",
   "execution_count": 2,
   "id": "e6a6a309-89e9-4900-bca6-d44234f5345c",
   "metadata": {},
   "outputs": [
    {
     "name": "stdin",
     "output_type": "stream",
     "text": [
      "What do you choose 0 for rock, 1 for paper, 2 for scissors 1\n"
     ]
    },
    {
     "name": "stdout",
     "output_type": "stream",
     "text": [
      "\n",
      "    _______\n",
      "---'   ____)____\n",
      "          ______)\n",
      "          _______)\n",
      "         _______)\n",
      "---.__________)\n",
      "\n",
      "Computer chose:\n",
      "\n",
      "    _______\n",
      "---'   ____)\n",
      "      (_____)\n",
      "      (_____)\n",
      "      (____)\n",
      "---.__(___)\n",
      "\n",
      "You win!!\n"
     ]
    }
   ],
   "source": [
    "rock = '''\n",
    "    _______\n",
    "---'   ____)\n",
    "      (_____)\n",
    "      (_____)\n",
    "      (____)\n",
    "---.__(___)\n",
    "'''\n",
    "\n",
    "paper = '''\n",
    "    _______\n",
    "---'   ____)____\n",
    "          ______)\n",
    "          _______)\n",
    "         _______)\n",
    "---.__________)\n",
    "'''\n",
    "\n",
    "scissors = '''\n",
    "    _______\n",
    "---'   ____)____\n",
    "          ______)\n",
    "       __________)\n",
    "      (____)\n",
    "---.__(___)\n",
    "'''\n",
    "rpslist = [rock,paper,scissors]\n",
    "\n",
    "user_choice = int(input(\"What do you choose 0 for rock, 1 for paper, 2 for scissors\"))\n",
    "print(rpslist[user_choice])\n",
    "\n",
    "import random\n",
    "ran_choice = random.randint(0,2)\n",
    "computer_choice = rpslist[ran_choice]\n",
    "print(\"Computer chose:\")\n",
    "print(computer_choice)\n",
    "\n",
    "if user_choice == ran_choice:\n",
    "    print(\"It's a tie!\")\n",
    "elif user_choice == 0 and ran_choice == 1:\n",
    "    print(\"Computer wins!\")\n",
    "elif user_choice == 1 and ran_choice == 2:\n",
    "    print(\"Computer wins!\")\n",
    "elif user_choice == 2 and ran_choice == 0:\n",
    "    print(\"Computer wins!\")\n",
    "else:\n",
    "    print(\"You win!!\")"
   ]
  },
  {
   "cell_type": "code",
   "execution_count": null,
   "id": "1127730e-93ce-48f9-9f6d-27b3a2643961",
   "metadata": {},
   "outputs": [],
   "source": []
  }
 ],
 "metadata": {
  "kernelspec": {
   "display_name": "Python 3 (ipykernel)",
   "language": "python",
   "name": "python3"
  },
  "language_info": {
   "codemirror_mode": {
    "name": "ipython",
    "version": 3
   },
   "file_extension": ".py",
   "mimetype": "text/x-python",
   "name": "python",
   "nbconvert_exporter": "python",
   "pygments_lexer": "ipython3",
   "version": "3.11.4"
  }
 },
 "nbformat": 4,
 "nbformat_minor": 5
}
